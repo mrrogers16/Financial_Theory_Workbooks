{
 "cells": [
  {
   "cell_type": "markdown",
   "id": "2df5fcba",
   "metadata": {},
   "source": [
    "# Chapter 5 \n",
    "## Static Economy"
   ]
  },
  {
   "cell_type": "code",
   "execution_count": 1,
   "id": "2ca5e36d",
   "metadata": {},
   "outputs": [
    {
     "name": "stdout",
     "output_type": "stream",
     "text": [
      "The resulting weights according to the random probability measure: \n",
      "[0.00072 0.00069 0.00085 0.00013 0.00131 0.00106 0.00106 0.0019  0.0015\n",
      " 0.00122]\n",
      "The expectation as the dot product of the probability vector and the vector representing the random variable: 100.7198164018502\n"
     ]
    }
   ],
   "source": [
    "# Uncertainty\n",
    "# Random Variables\n",
    "\n",
    "# Numerical Example\n",
    "\n",
    "import numpy as np\n",
    "from numpy.random import default_rng\n",
    "np.set_printoptions(precision=5, suppress=True)\n",
    "\n",
    "rng = default_rng(100) # Fixes the seed value for the NumPy random number generator for reproducibility of the results\n",
    "\n",
    "I = 1000 # Fixes the number of states in the state space (for the sumulations to follow)\n",
    "\n",
    "S = rng.normal(loc=100, scale=20, size=I) # Draws I normally distributed (pseudo-)random numbers with mean 'loc' and standard deviation 'scale'\n",
    "\n",
    "S.mean() # Calculates the expected (mean value) assuming an equal probability for every simulated value (state)\n",
    "\n",
    "P = rng.random(I) # Draws uniformly distributed random numbers between 0 and 1\n",
    "\n",
    "P /=  P.sum()   # Normalizes the values in the ndarray object to sum up to 1\n",
    "P.sum()         # Normalizes the values in the ndarray object to sum up to 1\n",
    "print(f\"The resulting weights according to the random probability measure: \\n{P[:10]}\")\n",
    "print(f\"The expectation as the dot product of the probability vector and the vector representing the random variable: {np.dot(P, S)}\") # The expectation as the dot product of the probability vector and the vector representing the random variable. "
   ]
  },
  {
   "cell_type": "code",
   "execution_count": 2,
   "id": "612b2b70",
   "metadata": {},
   "outputs": [
    {
     "name": "stdout",
     "output_type": "stream",
     "text": [
      "Expected (or average) future price for every traded financial asset: [11. 12. 12. 10. 12.]\n",
      "Average rates of return: [0.1 0.2 0.2 0.  0.2]\n",
      "Rates of Return Matrix:\n",
      "[[ 0.1  1.5 -1.  -1.   1.5]\n",
      " [ 0.1  1.   2.   0.5  1.5]\n",
      " [ 0.1  0.  -1.   1.   0. ]\n",
      " [ 0.1 -0.5  2.   0.5 -1. ]\n",
      " [ 0.1 -1.  -1.  -1.  -1. ]]\n",
      "Standard deviation/volatility for each financial asset: [0.      0.92736 1.46969 0.83666 1.1225 ]\n"
     ]
    }
   ],
   "source": [
    "# Financial Assets\n",
    "\n",
    "M = np.array((          # The assumed market payoff matrix where the columns represent the future, undertain price vectors of the traded financial assets\n",
    "    (11, 25, 0, 0, 25),\n",
    "    (11, 20, 30, 15, 25),\n",
    "    (11, 10, 0, 20, 10),\n",
    "    (11, 5, 30, 15, 0),\n",
    "    (11, 0, 0, 0, 0)\n",
    "    ))\n",
    "\n",
    "M0 = np.array(5 * [10.]) # The current price vector for the five assets, for each of which the price is fixed to 10. \n",
    "\n",
    "avg_future_prices = M.mean(axis=0) # This calculates the expected (or average) future price for every traded financial asset. \n",
    "print(f\"Expected (or average) future price for every traded financial asset: {avg_future_prices}\")\n",
    "\n",
    "mu = M.mean(axis=0) / M0 - 1 # This in turn calculates the expected (or average) rates of return \n",
    "print(f\"Average rates of return: {mu}\")\n",
    "\n",
    "print(f\"Rates of Return Matrix:\\n{(M / M0 - 1)}\") # The rates of return matrix calculated and printed out\n",
    "\n",
    "sigma = (M / M0 -1).std(axis=0) # The standard deviation of the rates of return or volatility calculated for every traded financial asset - the first one is risk-less; it can be considered to be a bond\n",
    "print(f\"Standard deviation/volatility for each financial asset: {sigma}\")\n"
   ]
  },
  {
   "cell_type": "code",
   "execution_count": 14,
   "id": "cd88661f",
   "metadata": {},
   "outputs": [
    {
     "name": "stdout",
     "output_type": "stream",
     "text": [
      "Strike price of the European call option: 15\n",
      "Payoff vector: [25 20 10  5  0]\n",
      "Future payoff of S^2_1: [10  5  0  0  0]\n",
      "Solution to replication problem: [-0.       0.5      0.01667 -0.2     -0.1    ]\n",
      "Replication portfolio replicates the future payoff of the European call option: True\n",
      "Arbitrage price in combination with the current price vector of the traded asset: 2.167\n"
     ]
    }
   ],
   "source": [
    "# Contingent Claims\n",
    "\n",
    "K = 15 # The strike price of the European call option \n",
    "print(f\"Strike price of the European call option: {K}\")\n",
    "\n",
    "M[:, 1] # The payoff vector of the relevant financial asset\n",
    "print(f\"Payoff vector: {M[:, 1]}\")\n",
    "\n",
    "C1 = np.maximum(M[:, 1] - K, 0) # The call option is written on the second traded financial asset with future payoff of S^2_1(25, 20, 10, 5, 0)\n",
    "print(f\"Future payoff of S^2_1: {C1}\")\n",
    "\n",
    "phi = np.linalg.solve(M, C1) # This solves the replication problem given the market payoff matrix\n",
    "print(f\"Solution to replication problem: {phi}\")\n",
    "\n",
    "does_replicate = np.allclose(C1, np.dot(M, phi)) # Checks whether the replication portfolio indeed replicates the future payoff of the European call option\n",
    "print(f\"Replication portfolio replicates the future payoff of the European call option: {does_replicate}\")\n",
    "\n",
    "C0 = np.dot(M0, phi) # From the replication portfolio, the arbitrage price follows in combination with the current price vector of the traded financial assets\n",
    "print(f\"Arbitrage price in combination with the current price vector of the traded asset: {C0:.4}\")"
   ]
  },
  {
   "cell_type": "code",
   "execution_count": null,
   "id": "8cdb19f8",
   "metadata": {},
   "outputs": [],
   "source": []
  }
 ],
 "metadata": {
  "kernelspec": {
   "display_name": ".venv",
   "language": "python",
   "name": "python3"
  },
  "language_info": {
   "codemirror_mode": {
    "name": "ipython",
    "version": 3
   },
   "file_extension": ".py",
   "mimetype": "text/x-python",
   "name": "python",
   "nbconvert_exporter": "python",
   "pygments_lexer": "ipython3",
   "version": "3.13.3"
  }
 },
 "nbformat": 4,
 "nbformat_minor": 5
}
