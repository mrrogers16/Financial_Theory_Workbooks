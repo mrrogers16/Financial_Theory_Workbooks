{
 "cells": [
  {
   "cell_type": "code",
   "execution_count": 2,
   "id": "93a8bfb9",
   "metadata": {},
   "outputs": [
    {
     "name": "stdout",
     "output_type": "stream",
     "text": [
      "Return R: 3\n",
      "Rate of return r: 20.0%\n",
      "Present value: $16.36\n"
     ]
    }
   ],
   "source": [
    "from pylab import mpl, plt\n",
    "import numpy as np\n",
    "c = np.array([-15, 18])\n",
    "i = 0.1\n",
    "# Calculate return which is total dollar amount gained/lost from an investment\n",
    "# R = c0 + c1 \n",
    "# R = -15 + 18 = 3\n",
    "R = np.sum(c)\n",
    "print(f\"Return R: {R}\")\n",
    "# Calculate the rate of return. i = 10% or 0.1\n",
    "# r = R / |c0|\n",
    "# r = 3 / |-15| = 3 / 15 = 0.2\n",
    "r = R / abs(c[0])\n",
    "print(f\"Rate of return r: {r:.1%}\")\n",
    "# Present Value of Future Cash Flow\n",
    "# PV = c1 / (1 + i) = \n",
    "# PV = 18 / (1 + 0.1) = \n",
    "PV = c[1] / (1 + i)\n",
    "print(f\"Present value: ${PV:.2f}\")"
   ]
  },
  {
   "cell_type": "code",
   "execution_count": 3,
   "id": "6a8b5700",
   "metadata": {},
   "outputs": [
    {
     "name": "stdout",
     "output_type": "stream",
     "text": [
      "Call option payoff C1: [5 0]\n",
      "Vector shape: (2,)\n",
      "All non-negative: True\n",
      "Vector space ℝ²: [5 0]\n"
     ]
    }
   ],
   "source": [
    "# Call Option Payoff Vector C1\n",
    "S0 = 12                 # Stock current price\n",
    "S1 = np.array([25, 8])  # Stock future price up/down\n",
    "K = 20                  # Strike price\n",
    "\n",
    "# Calculate\n",
    "C1 = np.maximum(S1 - K, 0)\n",
    "print(f\"Call option payoff C1: {C1}\")\n",
    "# Show that its in the right vector space\n",
    "print(f\"Vector shape: {C1.shape}\")\n",
    "print(f\"All non-negative: {np.all(C1>=0)}\")\n",
    "print(f\"Vector space ℝ²: {C1}\")"
   ]
  },
  {
   "cell_type": "code",
   "execution_count": 4,
   "id": "4de18414",
   "metadata": {},
   "outputs": [
    {
     "name": "stdout",
     "output_type": "stream",
     "text": [
      "Returns in each state: [13 -4]\n",
      "Expected return E^P(R): 6.199999999999999\n",
      "Rate of return in each state: [ 1.08333333 -0.33333333]\n",
      "Expected rate of return μ: 0.517\n",
      "Variance σ²: 0.482\n",
      "Volatility σ: 0.694\n"
     ]
    }
   ],
   "source": [
    "# Expected Return and Volatility\n",
    "S0 = 12                     # Today's price\n",
    "S1 = np.array([25, 8])      # up, down\n",
    "P = np.array([0.6, 0.4])    # Probability up, down\n",
    "# Expected Return\n",
    "# Calculate returns in each state\n",
    "R = S1 - S0\n",
    "print(f\"Returns in each state: {R}\")\n",
    "\n",
    "# Calculate expected return\n",
    "expected_return = np.dot(P, R) # expected return is the dot product of probability vector and returns in each state\n",
    "print(f\"Expected return E^P(R): {expected_return}\")\n",
    "\n",
    "# Calculate rate of return in each state\n",
    "r = R / S0\n",
    "print(f\"Rate of return in each state: {r}\")\n",
    "\n",
    "# Calculate expected rate of return (mu)\n",
    "mu = np.dot(P, r)\n",
    "print(f\"Expected rate of return μ: {mu:.3f}\")\n",
    "\n",
    "# Calculate variance\n",
    "variance = np.dot(P, (r - mu)**2)\n",
    "print(f\"Variance σ²: {variance:.3f}\")\n",
    "\n",
    "# Calculate volatility (standard deviation)\n",
    "volatility = np.sqrt(variance)\n",
    "print(f\"Volatility σ: {volatility:.3f}\")"
   ]
  },
  {
   "cell_type": "code",
   "execution_count": null,
   "id": "c6ffb4ef",
   "metadata": {},
   "outputs": [
    {
     "name": "stdout",
     "output_type": "stream",
     "text": [
      "Put option payoff P1: [0 7]\n",
      "Payoff matrix M:\n",
      "[[11 25]\n",
      " [11  8]]\n",
      "Portfolio weights φ: [ 0.93582888 -0.41176471]\n",
      "Bonds to buy/sell: 0.9358\n",
      "Stocks to buy/sell: -0.4118\n",
      "Cost to replicate put option: $4.4171\n",
      "Payoff vector: [10  0]\n"
     ]
    }
   ],
   "source": [
    "# Option Replication\n",
    "# Goal: Replicate a put option with strike K = 15\n",
    "B0, B1 = 10, 11         # Bonds in both states - risk free\n",
    "S0 = 12                 # Today's stock price\n",
    "S1 = np.array([25, 8])  # Stock price up/down markets\n",
    "K = 15                  # Strike price\n",
    "\n",
    "# Calculate put option payoff\n",
    "P1 = np.maximum(K - S1, 0)\n",
    "print(f\"Put option payoff P1: {P1}\")\n",
    "\n",
    "# Set up the Replication Matrix\n",
    "# Create the payoff matrix M\n",
    "M = np.array([[B1, S1[0]],  # Payoffs in up state\n",
    "              [B1, S1[1]]]) # Payoffs in down state\n",
    "print(f\"Payoff matrix M:\\n{M}\")\n",
    "\n",
    "# Solve for Portfolio Weights\n",
    "# Solve for replicating portfolio\n",
    "phi = np.linalg.solve(M, P1)\n",
    "print(f\"Portfolio weights φ: {phi}\")\n",
    "print(f\"Bonds to buy/sell: {phi[0]:.4f}\")\n",
    "print(f\"Stocks to buy/sell: {phi[1]:.4f}\")\n",
    "\n",
    "# Calculate the Cost Today\n",
    "# Calculate the cost of replicating portfolio\n",
    "M0 = np.array([B0, S0]) # Today's prices\n",
    "cost = np.dot(phi, M0)\n",
    "print(f\"Cost to replicate put option: ${cost:.4f}\")\n"
   ]
  },
  {
   "cell_type": "code",
   "execution_count": null,
   "id": "04bcff8a",
   "metadata": {},
   "outputs": [],
   "source": []
  }
 ],
 "metadata": {
  "kernelspec": {
   "display_name": ".venv",
   "language": "python",
   "name": "python3"
  },
  "language_info": {
   "codemirror_mode": {
    "name": "ipython",
    "version": 3
   },
   "file_extension": ".py",
   "mimetype": "text/x-python",
   "name": "python",
   "nbconvert_exporter": "python",
   "pygments_lexer": "ipython3",
   "version": "3.13.3"
  }
 },
 "nbformat": 4,
 "nbformat_minor": 5
}
