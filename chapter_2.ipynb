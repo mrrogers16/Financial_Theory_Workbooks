{
 "cells": [
  {
   "cell_type": "code",
   "execution_count": 1,
   "id": "168c07dc",
   "metadata": {},
   "outputs": [
    {
     "data": {
      "text/plain": [
       "float"
      ]
     },
     "execution_count": 1,
     "metadata": {},
     "output_type": "execute_result"
    }
   ],
   "source": [
    "vu = 1.5\n",
    "vd = 3.75\n",
    "\n",
    "type(vu)"
   ]
  },
  {
   "cell_type": "code",
   "execution_count": 2,
   "id": "f2f717c6",
   "metadata": {},
   "outputs": [
    {
     "data": {
      "text/plain": [
       "5.25"
      ]
     },
     "execution_count": 2,
     "metadata": {},
     "output_type": "execute_result"
    }
   ],
   "source": [
    "vu + vd"
   ]
  },
  {
   "cell_type": "code",
   "execution_count": 3,
   "id": "27e64b1e",
   "metadata": {},
   "outputs": [],
   "source": [
    "import numpy as np"
   ]
  },
  {
   "cell_type": "code",
   "execution_count": 4,
   "id": "e81c1105",
   "metadata": {},
   "outputs": [],
   "source": [
    "v = np.array((vu, vd))"
   ]
  },
  {
   "cell_type": "code",
   "execution_count": 5,
   "id": "ae2ed528",
   "metadata": {},
   "outputs": [
    {
     "data": {
      "text/plain": [
       "array([1.5 , 3.75])"
      ]
     },
     "execution_count": 5,
     "metadata": {},
     "output_type": "execute_result"
    }
   ],
   "source": [
    "v"
   ]
  },
  {
   "cell_type": "code",
   "execution_count": 6,
   "id": "879012a1",
   "metadata": {},
   "outputs": [
    {
     "data": {
      "text/plain": [
       "dtype('float64')"
      ]
     },
     "execution_count": 6,
     "metadata": {},
     "output_type": "execute_result"
    }
   ],
   "source": [
    "v.dtype"
   ]
  },
  {
   "cell_type": "code",
   "execution_count": 7,
   "id": "590bbd6f",
   "metadata": {},
   "outputs": [
    {
     "data": {
      "text/plain": [
       "(2,)"
      ]
     },
     "execution_count": 7,
     "metadata": {},
     "output_type": "execute_result"
    }
   ],
   "source": [
    "v.shape"
   ]
  },
  {
   "cell_type": "code",
   "execution_count": 8,
   "id": "e7a021ba",
   "metadata": {},
   "outputs": [
    {
     "data": {
      "text/plain": [
       "array([3. , 7.5])"
      ]
     },
     "execution_count": 8,
     "metadata": {},
     "output_type": "execute_result"
    }
   ],
   "source": [
    "v + v"
   ]
  },
  {
   "cell_type": "code",
   "execution_count": 9,
   "id": "aed7b1ab",
   "metadata": {},
   "outputs": [
    {
     "data": {
      "text/plain": [
       "array([ 4.5 , 11.25])"
      ]
     },
     "execution_count": 9,
     "metadata": {},
     "output_type": "execute_result"
    }
   ],
   "source": [
    "3 * v"
   ]
  },
  {
   "cell_type": "code",
   "execution_count": 10,
   "id": "4a2c6771",
   "metadata": {},
   "outputs": [
    {
     "data": {
      "text/plain": [
       "array([5, 0])"
      ]
     },
     "execution_count": 10,
     "metadata": {},
     "output_type": "execute_result"
    }
   ],
   "source": [
    "S = np.array((20, 5))\n",
    "K = 15\n",
    "C = np.maximum(S - K, 0)\n",
    "C"
   ]
  },
  {
   "cell_type": "code",
   "execution_count": 11,
   "id": "edda3a10",
   "metadata": {},
   "outputs": [],
   "source": [
    "c0 = -9.5"
   ]
  },
  {
   "cell_type": "code",
   "execution_count": 12,
   "id": "a797c3dd",
   "metadata": {},
   "outputs": [
    {
     "data": {
      "text/plain": [
       "(-9.5, 11.75)"
      ]
     },
     "execution_count": 12,
     "metadata": {},
     "output_type": "execute_result"
    }
   ],
   "source": [
    "c1 = 11.75\n",
    "c = (c0, c1)\n",
    "c"
   ]
  },
  {
   "cell_type": "code",
   "execution_count": 13,
   "id": "d3a6e54c",
   "metadata": {},
   "outputs": [
    {
     "data": {
      "text/plain": [
       "tuple"
      ]
     },
     "execution_count": 13,
     "metadata": {},
     "output_type": "execute_result"
    }
   ],
   "source": [
    "type(c)\n"
   ]
  },
  {
   "cell_type": "code",
   "execution_count": 14,
   "id": "2a6d7823",
   "metadata": {},
   "outputs": [
    {
     "data": {
      "text/plain": [
       "-9.5"
      ]
     },
     "execution_count": 14,
     "metadata": {},
     "output_type": "execute_result"
    }
   ],
   "source": [
    "c[0]"
   ]
  },
  {
   "cell_type": "code",
   "execution_count": 15,
   "id": "1ec45dfc",
   "metadata": {},
   "outputs": [
    {
     "data": {
      "text/plain": [
       "11.75"
      ]
     },
     "execution_count": 15,
     "metadata": {},
     "output_type": "execute_result"
    }
   ],
   "source": [
    "c[1]"
   ]
  },
  {
   "cell_type": "code",
   "execution_count": 16,
   "id": "540d44f7",
   "metadata": {},
   "outputs": [
    {
     "data": {
      "text/plain": [
       "[-9.5, 11.75]"
      ]
     },
     "execution_count": 16,
     "metadata": {},
     "output_type": "execute_result"
    }
   ],
   "source": [
    "c = [c0,c1]\n",
    "c"
   ]
  },
  {
   "cell_type": "code",
   "execution_count": 17,
   "id": "04a36f62",
   "metadata": {},
   "outputs": [
    {
     "data": {
      "text/plain": [
       "list"
      ]
     },
     "execution_count": 17,
     "metadata": {},
     "output_type": "execute_result"
    }
   ],
   "source": [
    "type(c)"
   ]
  },
  {
   "cell_type": "code",
   "execution_count": 18,
   "id": "b00b0757",
   "metadata": {},
   "outputs": [
    {
     "data": {
      "text/plain": [
       "-9.5"
      ]
     },
     "execution_count": 18,
     "metadata": {},
     "output_type": "execute_result"
    }
   ],
   "source": [
    "c[0]"
   ]
  },
  {
   "cell_type": "code",
   "execution_count": 19,
   "id": "54f595b3",
   "metadata": {},
   "outputs": [
    {
     "data": {
      "text/plain": [
       "11.75"
      ]
     },
     "execution_count": 19,
     "metadata": {},
     "output_type": "execute_result"
    }
   ],
   "source": [
    "c[1]"
   ]
  },
  {
   "cell_type": "code",
   "execution_count": 20,
   "id": "5c7bb311",
   "metadata": {},
   "outputs": [
    {
     "data": {
      "text/plain": [
       "[-9.5, 11.75]"
      ]
     },
     "execution_count": 20,
     "metadata": {},
     "output_type": "execute_result"
    }
   ],
   "source": [
    "c\n"
   ]
  },
  {
   "cell_type": "code",
   "execution_count": 21,
   "id": "b93b2efe",
   "metadata": {},
   "outputs": [],
   "source": [
    "c[0] = 10\n"
   ]
  },
  {
   "cell_type": "code",
   "execution_count": 22,
   "id": "929c8775",
   "metadata": {},
   "outputs": [
    {
     "data": {
      "text/plain": [
       "[10, 11.75]"
      ]
     },
     "execution_count": 22,
     "metadata": {},
     "output_type": "execute_result"
    }
   ],
   "source": [
    "c"
   ]
  },
  {
   "cell_type": "code",
   "execution_count": 23,
   "id": "be80a949",
   "metadata": {},
   "outputs": [],
   "source": [
    "c = (-10,12)"
   ]
  },
  {
   "cell_type": "code",
   "execution_count": 24,
   "id": "f0f83cfd",
   "metadata": {},
   "outputs": [],
   "source": [
    "R = sum(c)"
   ]
  },
  {
   "cell_type": "code",
   "execution_count": 25,
   "id": "768218dd",
   "metadata": {},
   "outputs": [
    {
     "data": {
      "text/plain": [
       "2"
      ]
     },
     "execution_count": 25,
     "metadata": {},
     "output_type": "execute_result"
    }
   ],
   "source": [
    "R"
   ]
  },
  {
   "cell_type": "code",
   "execution_count": 26,
   "id": "58b3d0ea",
   "metadata": {},
   "outputs": [],
   "source": [
    "r = R / abs(c[0])"
   ]
  },
  {
   "cell_type": "code",
   "execution_count": 27,
   "id": "6d9953a6",
   "metadata": {},
   "outputs": [
    {
     "data": {
      "text/plain": [
       "0.2"
      ]
     },
     "execution_count": 27,
     "metadata": {},
     "output_type": "execute_result"
    }
   ],
   "source": [
    "r\n"
   ]
  },
  {
   "cell_type": "code",
   "execution_count": 28,
   "id": "d7ca06e6",
   "metadata": {},
   "outputs": [],
   "source": [
    "i = 0.1\n"
   ]
  },
  {
   "cell_type": "code",
   "execution_count": 29,
   "id": "8d932b3a",
   "metadata": {},
   "outputs": [],
   "source": [
    "def D(c1):\n",
    "    return c1 / (1 + i)"
   ]
  },
  {
   "cell_type": "code",
   "execution_count": 30,
   "id": "42d5dca5",
   "metadata": {},
   "outputs": [
    {
     "data": {
      "text/plain": [
       "10.999999999999998"
      ]
     },
     "execution_count": 30,
     "metadata": {},
     "output_type": "execute_result"
    }
   ],
   "source": [
    "D(12.1)"
   ]
  },
  {
   "cell_type": "code",
   "execution_count": 31,
   "id": "b2e42775",
   "metadata": {},
   "outputs": [
    {
     "data": {
      "text/plain": [
       "10.0"
      ]
     },
     "execution_count": 31,
     "metadata": {},
     "output_type": "execute_result"
    }
   ],
   "source": [
    "D(11)"
   ]
  },
  {
   "cell_type": "code",
   "execution_count": 32,
   "id": "a05a877c",
   "metadata": {},
   "outputs": [],
   "source": [
    "def NPV(c):\n",
    "    return c[0] + D(c[1])\n",
    "cA = (-10.5, 12.1)\n",
    "cB = (-10.5, 11)"
   ]
  },
  {
   "cell_type": "code",
   "execution_count": 33,
   "id": "48c8f2cb",
   "metadata": {},
   "outputs": [
    {
     "data": {
      "text/plain": [
       "0.4999999999999982"
      ]
     },
     "execution_count": 33,
     "metadata": {},
     "output_type": "execute_result"
    }
   ],
   "source": [
    "NPV(cA)"
   ]
  },
  {
   "cell_type": "code",
   "execution_count": 34,
   "id": "6ed4ce7a",
   "metadata": {},
   "outputs": [
    {
     "data": {
      "text/plain": [
       "-0.5"
      ]
     },
     "execution_count": 34,
     "metadata": {},
     "output_type": "execute_result"
    }
   ],
   "source": [
    "NPV(cB)"
   ]
  },
  {
   "cell_type": "code",
   "execution_count": 35,
   "id": "8dc99f10",
   "metadata": {},
   "outputs": [],
   "source": [
    "import numpy as np"
   ]
  },
  {
   "cell_type": "code",
   "execution_count": 36,
   "id": "42784816",
   "metadata": {},
   "outputs": [
    {
     "data": {
      "text/plain": [
       "numpy.ndarray"
      ]
     },
     "execution_count": 36,
     "metadata": {},
     "output_type": "execute_result"
    }
   ],
   "source": [
    "c0 = -10\n",
    "c1 = np.array((20,5))\n",
    "type(c1)"
   ]
  },
  {
   "cell_type": "code",
   "execution_count": 37,
   "id": "6bcf983f",
   "metadata": {},
   "outputs": [
    {
     "data": {
      "text/plain": [
       "array([20,  5])"
      ]
     },
     "execution_count": 37,
     "metadata": {},
     "output_type": "execute_result"
    }
   ],
   "source": [
    "c1"
   ]
  },
  {
   "cell_type": "code",
   "execution_count": 38,
   "id": "2ce3cfad",
   "metadata": {},
   "outputs": [],
   "source": [
    "c = (c0, c1)"
   ]
  },
  {
   "cell_type": "code",
   "execution_count": 39,
   "id": "1cad3116",
   "metadata": {},
   "outputs": [
    {
     "data": {
      "text/plain": [
       "(-10, array([20,  5]))"
      ]
     },
     "execution_count": 39,
     "metadata": {},
     "output_type": "execute_result"
    }
   ],
   "source": [
    "c"
   ]
  },
  {
   "cell_type": "code",
   "execution_count": 40,
   "id": "bb922afa",
   "metadata": {},
   "outputs": [
    {
     "data": {
      "text/plain": [
       "array([32. ,  9.5])"
      ]
     },
     "execution_count": 40,
     "metadata": {},
     "output_type": "execute_result"
    }
   ],
   "source": [
    "1.5 * c1 + 2"
   ]
  },
  {
   "cell_type": "code",
   "execution_count": 41,
   "id": "3224544e",
   "metadata": {},
   "outputs": [
    {
     "data": {
      "text/plain": [
       "array([35., 11.])"
      ]
     },
     "execution_count": 41,
     "metadata": {},
     "output_type": "execute_result"
    }
   ],
   "source": [
    "c1 + 1.5 * np.array((10,4))"
   ]
  },
  {
   "cell_type": "code",
   "execution_count": 42,
   "id": "22975db9",
   "metadata": {},
   "outputs": [
    {
     "data": {
      "text/plain": [
       "np.int64(20)"
      ]
     },
     "execution_count": 42,
     "metadata": {},
     "output_type": "execute_result"
    }
   ],
   "source": [
    "S0 = 10\n",
    "S1 = np.array((12.5, 7.5))\n",
    "S[0]"
   ]
  },
  {
   "cell_type": "code",
   "execution_count": 43,
   "id": "79c0e7eb",
   "metadata": {},
   "outputs": [
    {
     "data": {
      "text/plain": [
       "(10, array([12.5,  7.5]))"
      ]
     },
     "execution_count": 43,
     "metadata": {},
     "output_type": "execute_result"
    }
   ],
   "source": [
    "S = (S0, S1)\n",
    "S"
   ]
  },
  {
   "cell_type": "code",
   "execution_count": 44,
   "id": "9a28a6a9",
   "metadata": {},
   "outputs": [
    {
     "data": {
      "text/plain": [
       "10"
      ]
     },
     "execution_count": 44,
     "metadata": {},
     "output_type": "execute_result"
    }
   ],
   "source": [
    "S[0]"
   ]
  },
  {
   "cell_type": "code",
   "execution_count": 45,
   "id": "fd5aa506",
   "metadata": {},
   "outputs": [
    {
     "data": {
      "text/plain": [
       "np.float64(12.5)"
      ]
     },
     "execution_count": 45,
     "metadata": {},
     "output_type": "execute_result"
    }
   ],
   "source": [
    "S[1][0]"
   ]
  },
  {
   "cell_type": "code",
   "execution_count": 46,
   "id": "3136b401",
   "metadata": {},
   "outputs": [
    {
     "data": {
      "text/plain": [
       "np.float64(7.5)"
      ]
     },
     "execution_count": 46,
     "metadata": {},
     "output_type": "execute_result"
    }
   ],
   "source": [
    "S[1][1]"
   ]
  },
  {
   "cell_type": "code",
   "execution_count": 47,
   "id": "49db5c3a",
   "metadata": {},
   "outputs": [
    {
     "ename": "TypeError",
     "evalue": "'int' object is not subscriptable",
     "output_type": "error",
     "traceback": [
      "\u001b[31m---------------------------------------------------------------------------\u001b[39m",
      "\u001b[31mTypeError\u001b[39m                                 Traceback (most recent call last)",
      "\u001b[36mCell\u001b[39m\u001b[36m \u001b[39m\u001b[32mIn[47]\u001b[39m\u001b[32m, line 1\u001b[39m\n\u001b[32m----> \u001b[39m\u001b[32m1\u001b[39m \u001b[43mS\u001b[49m\u001b[43m[\u001b[49m\u001b[32;43m0\u001b[39;49m\u001b[43m]\u001b[49m\u001b[43m[\u001b[49m\u001b[32;43m0\u001b[39;49m\u001b[43m]\u001b[49m\n",
      "\u001b[31mTypeError\u001b[39m: 'int' object is not subscriptable"
     ]
    }
   ],
   "source": [
    "S[0][0]"
   ]
  },
  {
   "cell_type": "code",
   "execution_count": null,
   "id": "f40b9650",
   "metadata": {},
   "outputs": [
    {
     "ename": "TypeError",
     "evalue": "'int' object is not subscriptable",
     "output_type": "error",
     "traceback": [
      "\u001b[1;31m---------------------------------------------------------------------------\u001b[0m",
      "\u001b[1;31mTypeError\u001b[0m                                 Traceback (most recent call last)",
      "Cell \u001b[1;32mIn[55], line 1\u001b[0m\n\u001b[1;32m----> 1\u001b[0m \u001b[38;5;28mint\u001b[39m(\u001b[43mS\u001b[49m\u001b[43m[\u001b[49m\u001b[38;5;241;43m0\u001b[39;49m\u001b[43m]\u001b[49m\u001b[43m[\u001b[49m\u001b[38;5;241;43m0\u001b[39;49m\u001b[43m]\u001b[49m)\n",
      "\u001b[1;31mTypeError\u001b[0m: 'int' object is not subscriptable"
     ]
    }
   ],
   "source": [
    "int(S[0][0])"
   ]
  },
  {
   "cell_type": "code",
   "execution_count": null,
   "id": "3fc8fec6",
   "metadata": {},
   "outputs": [
    {
     "data": {
      "text/plain": [
       "10"
      ]
     },
     "execution_count": 56,
     "metadata": {},
     "output_type": "execute_result"
    }
   ],
   "source": [
    "S[0]"
   ]
  },
  {
   "cell_type": "code",
   "execution_count": null,
   "id": "8bc0fdcb",
   "metadata": {},
   "outputs": [
    {
     "data": {
      "text/plain": [
       "0.6"
      ]
     },
     "execution_count": 57,
     "metadata": {},
     "output_type": "execute_result"
    }
   ],
   "source": [
    "p = 0.4\n",
    "1 - p"
   ]
  },
  {
   "cell_type": "code",
   "execution_count": null,
   "id": "ced5a687",
   "metadata": {},
   "outputs": [
    {
     "data": {
      "text/plain": [
       "array([0.4, 0.6])"
      ]
     },
     "execution_count": 58,
     "metadata": {},
     "output_type": "execute_result"
    }
   ],
   "source": [
    "P = np.array((p, 1-p))\n",
    "P"
   ]
  },
  {
   "cell_type": "code",
   "execution_count": null,
   "id": "f97d3b64",
   "metadata": {},
   "outputs": [],
   "source": [
    "p = 0.4\n",
    "s1 = (20,5)"
   ]
  },
  {
   "cell_type": "code",
   "execution_count": null,
   "id": "9e973884",
   "metadata": {},
   "outputs": [
    {
     "data": {
      "text/plain": [
       "11.0"
      ]
     },
     "execution_count": 61,
     "metadata": {},
     "output_type": "execute_result"
    }
   ],
   "source": [
    "p * s1[0] + (1 - p) * s1[1]"
   ]
  },
  {
   "cell_type": "code",
   "execution_count": null,
   "id": "f63eba6a",
   "metadata": {},
   "outputs": [
    {
     "data": {
      "text/plain": [
       "array([0.4, 0.6])"
      ]
     },
     "execution_count": 62,
     "metadata": {},
     "output_type": "execute_result"
    }
   ],
   "source": [
    "P"
   ]
  },
  {
   "cell_type": "code",
   "execution_count": null,
   "id": "e14a42da",
   "metadata": {},
   "outputs": [
    {
     "data": {
      "text/plain": [
       "10"
      ]
     },
     "execution_count": 63,
     "metadata": {},
     "output_type": "execute_result"
    }
   ],
   "source": [
    "S0"
   ]
  },
  {
   "cell_type": "code",
   "execution_count": null,
   "id": "bc7acfe2",
   "metadata": {},
   "outputs": [],
   "source": [
    "S1 = np.array((20,5))"
   ]
  },
  {
   "cell_type": "code",
   "execution_count": null,
   "id": "f3914b7a",
   "metadata": {},
   "outputs": [
    {
     "data": {
      "text/plain": [
       "11.0"
      ]
     },
     "execution_count": 65,
     "metadata": {},
     "output_type": "execute_result"
    }
   ],
   "source": [
    "np.dot(P, S1)"
   ]
  },
  {
   "cell_type": "code",
   "execution_count": null,
   "id": "6f6c0ce5",
   "metadata": {},
   "outputs": [],
   "source": [
    "def ER(x0, x1):\n",
    "    return np.dot(P, x1) - x0\n"
   ]
  },
  {
   "cell_type": "code",
   "execution_count": null,
   "id": "e3e04f13",
   "metadata": {},
   "outputs": [
    {
     "data": {
      "text/plain": [
       "10"
      ]
     },
     "execution_count": 67,
     "metadata": {},
     "output_type": "execute_result"
    }
   ],
   "source": [
    "S0"
   ]
  },
  {
   "cell_type": "code",
   "execution_count": null,
   "id": "0729120e",
   "metadata": {},
   "outputs": [
    {
     "data": {
      "text/plain": [
       "array([20,  5])"
      ]
     },
     "execution_count": 68,
     "metadata": {},
     "output_type": "execute_result"
    }
   ],
   "source": [
    "S1"
   ]
  },
  {
   "cell_type": "code",
   "execution_count": null,
   "id": "563cac78",
   "metadata": {},
   "outputs": [
    {
     "data": {
      "text/plain": [
       "1.0"
      ]
     },
     "execution_count": 69,
     "metadata": {},
     "output_type": "execute_result"
    }
   ],
   "source": [
    "ER(S0, S1)"
   ]
  },
  {
   "cell_type": "code",
   "execution_count": null,
   "id": "27e89fc0",
   "metadata": {},
   "outputs": [],
   "source": [
    "def mu(x0, x1):\n",
    "    return (np.dot(P, x1) - x0) / x0"
   ]
  },
  {
   "cell_type": "code",
   "execution_count": null,
   "id": "70d4afd0",
   "metadata": {},
   "outputs": [
    {
     "data": {
      "text/plain": [
       "0.1"
      ]
     },
     "execution_count": 71,
     "metadata": {},
     "output_type": "execute_result"
    }
   ],
   "source": [
    "mu(S0, S1)"
   ]
  },
  {
   "cell_type": "code",
   "execution_count": null,
   "id": "0a5dd2ea",
   "metadata": {},
   "outputs": [
    {
     "data": {
      "text/plain": [
       "array([ 1. , -0.5])"
      ]
     },
     "execution_count": 72,
     "metadata": {},
     "output_type": "execute_result"
    }
   ],
   "source": [
    "def r(x0, x1):\n",
    "    return (x1 - x0) / x0\n",
    "r(S0, S1)"
   ]
  },
  {
   "cell_type": "code",
   "execution_count": null,
   "id": "727537f1",
   "metadata": {},
   "outputs": [
    {
     "data": {
      "text/plain": [
       "0.10000000000000003"
      ]
     },
     "execution_count": 73,
     "metadata": {},
     "output_type": "execute_result"
    }
   ],
   "source": [
    "mu = np.dot(P, r(S0, S1))\n",
    "mu"
   ]
  },
  {
   "cell_type": "code",
   "execution_count": null,
   "id": "dfb260b8",
   "metadata": {},
   "outputs": [],
   "source": [
    "def sigma2(P, r, mu):\n",
    "    return np.dot(P, (r - mu) ** 2)"
   ]
  },
  {
   "cell_type": "code",
   "execution_count": null,
   "id": "4b99c893",
   "metadata": {},
   "outputs": [
    {
     "data": {
      "text/plain": [
       "0.54"
      ]
     },
     "execution_count": 75,
     "metadata": {},
     "output_type": "execute_result"
    }
   ],
   "source": [
    "sigma2(P, r(S0, S1), mu)"
   ]
  },
  {
   "cell_type": "code",
   "execution_count": null,
   "id": "aca6ff94",
   "metadata": {},
   "outputs": [
    {
     "data": {
      "text/plain": [
       "0.7348469228349535"
      ]
     },
     "execution_count": 76,
     "metadata": {},
     "output_type": "execute_result"
    }
   ],
   "source": [
    "def sigma(P, r, mu):\n",
    "    return np.sqrt(np.dot(P, (r - mu) ** 2))\n",
    "sigma(P, r(S0, S1), mu)"
   ]
  },
  {
   "cell_type": "code",
   "execution_count": null,
   "id": "ee80982f",
   "metadata": {},
   "outputs": [
    {
     "data": {
      "text/plain": [
       "array([0, 1, 2, 3, 4, 5, 6])"
      ]
     },
     "execution_count": 77,
     "metadata": {},
     "output_type": "execute_result"
    }
   ],
   "source": [
    "S1 = np.arange(20)\n",
    "S1[:7]"
   ]
  },
  {
   "cell_type": "code",
   "execution_count": null,
   "id": "d4bf2291",
   "metadata": {},
   "outputs": [
    {
     "data": {
      "text/plain": [
       "array([ 0,  1,  2,  3,  4,  5,  6,  7,  8,  9, 10, 11, 12, 13, 14, 15, 16,\n",
       "       17, 18, 19])"
      ]
     },
     "execution_count": 78,
     "metadata": {},
     "output_type": "execute_result"
    }
   ],
   "source": [
    "S1"
   ]
  },
  {
   "cell_type": "code",
   "execution_count": null,
   "id": "38dc5c7d",
   "metadata": {},
   "outputs": [
    {
     "data": {
      "text/plain": [
       "array([0, 0, 0, 0, 0, 0, 0, 0, 0, 0, 0, 1, 2, 3, 4, 5, 6, 7, 8, 9])"
      ]
     },
     "execution_count": 79,
     "metadata": {},
     "output_type": "execute_result"
    }
   ],
   "source": [
    "K = 10\n",
    "C1 = np.maximum(S1 - K, 0)\n",
    "C1"
   ]
  },
  {
   "cell_type": "code",
   "execution_count": null,
   "id": "2c4c459a",
   "metadata": {},
   "outputs": [],
   "source": [
    "from pylab import mpl, plt"
   ]
  },
  {
   "cell_type": "code",
   "execution_count": null,
   "id": "a958b3eb",
   "metadata": {},
   "outputs": [],
   "source": [
    "from pylab import mpl, plt\n",
    "plt.style.use('seaborn-v0_8')\n",
    "mpl.rcParams['savefig.dpi'] = 360\n",
    "mpl.rcParams['font.family'] = 'serif'\n",
    "S1 = np.arange(20)\n",
    "K = 10\n",
    "C1 = np.maximum(S1 - K, 0)\n",
    "\n"
   ]
  },
  {
   "cell_type": "code",
   "execution_count": null,
   "id": "52e786bd",
   "metadata": {},
   "outputs": [
    {
     "name": "stderr",
     "output_type": "stream",
     "text": [
      "<>:2: SyntaxWarning: invalid escape sequence '\\m'\n",
      "<>:2: SyntaxWarning: invalid escape sequence '\\m'\n",
      "C:\\Users\\mickc\\AppData\\Local\\Temp\\ipykernel_31940\\4272903753.py:2: SyntaxWarning: invalid escape sequence '\\m'\n",
      "  plt.plot(S1, C1, lw = 3.0, label='$C_1 = \\max(S_1 - K, 0)$')\n"
     ]
    },
    {
     "data": {
      "text/plain": [
       "Text(0, 0.5, '$C_1$')"
      ]
     },
     "execution_count": 107,
     "metadata": {},
     "output_type": "execute_result"
    },
    {
     "data": {
      "image/png": "[encoded data removed]",
      "text/plain": [
       "<Figure size 1000x600 with 1 Axes>"
      ]
     },
     "metadata": {},
     "output_type": "display_data"
    }
   ],
   "source": [
    "plt.figure(figsize=(10,6))\n",
    "plt.plot(S1, C1, lw = 3.0, label='$C_1 = \\max(S_1 - K, 0)$')\n",
    "plt.legend(loc=0)\n",
    "plt.xlabel('$S_1$')\n",
    "plt.ylabel('$C_1$')"
   ]
  },
  {
   "cell_type": "code",
   "execution_count": null,
   "id": "22cafed8",
   "metadata": {},
   "outputs": [
    {
     "data": {
      "text/plain": [
       "array([[11, 20],\n",
       "       [11,  5]])"
      ]
     },
     "execution_count": 108,
     "metadata": {},
     "output_type": "execute_result"
    }
   ],
   "source": [
    "B = (10, np.array((11,11)))\n",
    "S = (10, np.array((20, 5)))\n",
    "M = np.array((B[1], S[1])).T # M = np.array((np.array((11,11)), np.array((20,5)))\n",
    "M"
   ]
  },
  {
   "cell_type": "code",
   "execution_count": null,
   "id": "314b58b4",
   "metadata": {},
   "outputs": [],
   "source": [
    "K = 15"
   ]
  },
  {
   "cell_type": "code",
   "execution_count": null,
   "id": "4f9d6682",
   "metadata": {},
   "outputs": [
    {
     "data": {
      "text/plain": [
       "array([5, 0])"
      ]
     },
     "execution_count": 110,
     "metadata": {},
     "output_type": "execute_result"
    }
   ],
   "source": [
    "C1 = np.maximum(S[1] - K, 0)\n",
    "C1"
   ]
  },
  {
   "cell_type": "code",
   "execution_count": null,
   "id": "a36f5051",
   "metadata": {},
   "outputs": [],
   "source": [
    "phi = np.linalg.solve(M, C1)"
   ]
  },
  {
   "cell_type": "code",
   "execution_count": null,
   "id": "623eebe4",
   "metadata": {},
   "outputs": [
    {
     "data": {
      "text/plain": [
       "array([-0.15151515,  0.33333333])"
      ]
     },
     "execution_count": 113,
     "metadata": {},
     "output_type": "execute_result"
    }
   ],
   "source": [
    "phi"
   ]
  },
  {
   "cell_type": "code",
   "execution_count": null,
   "id": "844992e8",
   "metadata": {},
   "outputs": [
    {
     "data": {
      "text/plain": [
       "np.float64(1.8181818181818183)"
      ]
     },
     "execution_count": 114,
     "metadata": {},
     "output_type": "execute_result"
    }
   ],
   "source": [
    "C0 = np.dot(phi, (B[0], S[0]))\n",
    "C0"
   ]
  },
  {
   "cell_type": "code",
   "execution_count": null,
   "id": "c6d6475d",
   "metadata": {},
   "outputs": [
    {
     "data": {
      "text/plain": [
       "1.8181818181818183"
      ]
     },
     "execution_count": 115,
     "metadata": {},
     "output_type": "execute_result"
    }
   ],
   "source": [
    "10/3 - 50/33"
   ]
  },
  {
   "cell_type": "code",
   "execution_count": null,
   "id": "f4c75082",
   "metadata": {},
   "outputs": [
    {
     "data": {
      "text/plain": [
       "array([0.83498163, 0.59655403, 0.28886324, 0.04295157, 0.9736544 ])"
      ]
     },
     "execution_count": 116,
     "metadata": {},
     "output_type": "execute_result"
    }
   ],
   "source": [
    "from numpy.random import default_rng\n",
    "rng = default_rng(100)\n",
    "\n",
    "n = 1000\n",
    "b = rng.random(n)\n",
    "b[:5]\n"
   ]
  },
  {
   "cell_type": "code",
   "execution_count": null,
   "id": "bdc505f7",
   "metadata": {},
   "outputs": [
    {
     "data": {
      "text/plain": [
       "array([0.16501837, 0.40344597, 0.71113676, 0.95704843, 0.0263456 ])"
      ]
     },
     "execution_count": 117,
     "metadata": {},
     "output_type": "execute_result"
    }
   ],
   "source": [
    "s = (1 - b)\n",
    "s[:5]"
   ]
  },
  {
   "cell_type": "code",
   "execution_count": null,
   "id": "052faaa7",
   "metadata": {},
   "outputs": [],
   "source": [
    "def portfolio(b, s):\n",
    "    A = [b[i] * B[1] + s[i] * S[1] for i in range(n)]\n",
    "    return np.array(A)\n"
   ]
  },
  {
   "cell_type": "code",
   "execution_count": null,
   "id": "6403ebdd",
   "metadata": {},
   "outputs": [],
   "source": [
    "A = portfolio(b, s)"
   ]
  },
  {
   "cell_type": "code",
   "execution_count": null,
   "id": "5739baa5",
   "metadata": {},
   "outputs": [
    {
     "data": {
      "text/plain": [
       "array([[12.48516533, 10.00988978],\n",
       "       [14.63101376,  8.57932416],\n",
       "       [17.40023082,  6.73317945]])"
      ]
     },
     "execution_count": 120,
     "metadata": {},
     "output_type": "execute_result"
    }
   ],
   "source": [
    "A[:3]"
   ]
  },
  {
   "cell_type": "code",
   "execution_count": null,
   "id": "0c1ff184",
   "metadata": {},
   "outputs": [
    {
     "data": {
      "text/plain": [
       "[<matplotlib.lines.Line2D at 0x22eb587b890>]"
      ]
     },
     "execution_count": 121,
     "metadata": {},
     "output_type": "execute_result"
    },
    {
     "data": {
      "image/png": "[encoded data removed]",
      "text/plain": [
       "<Figure size 1000x600 with 1 Axes>"
      ]
     },
     "metadata": {},
     "output_type": "display_data"
    }
   ],
   "source": [
    "plt.figure(figsize=(10,6))\n",
    "plt.plot(A[:, 0], A[:, 1], 'r.')"
   ]
  },
  {
   "cell_type": "code",
   "execution_count": null,
   "id": "002011a7",
   "metadata": {},
   "outputs": [
    {
     "data": {
      "text/plain": [
       "array([1.36885777, 1.5863474 , 0.71245805, 0.32077672, 1.5401562 ])"
      ]
     },
     "execution_count": 122,
     "metadata": {},
     "output_type": "execute_result"
    }
   ],
   "source": [
    "s = rng.random(n)\n",
    "b[:5] + s[:5]"
   ]
  },
  {
   "cell_type": "code",
   "execution_count": null,
   "id": "4ff88c65",
   "metadata": {},
   "outputs": [
    {
     "data": {
      "text/plain": [
       "[<matplotlib.lines.Line2D at 0x22eb5e14e10>]"
      ]
     },
     "execution_count": 123,
     "metadata": {},
     "output_type": "execute_result"
    },
    {
     "data": {
      "image/png": "[encoded data removed]",
      "text/plain": [
       "<Figure size 1000x600 with 1 Axes>"
      ]
     },
     "metadata": {},
     "output_type": "display_data"
    }
   ],
   "source": [
    "A = portfolio(b, s)\n",
    "plt.figure(figsize=(10, 6))\n",
    "plt.plot(A[:, 0], A[:, 1], 'r.')"
   ]
  },
  {
   "cell_type": "code",
   "execution_count": null,
   "id": "ec363853",
   "metadata": {},
   "outputs": [
    {
     "data": {
      "text/plain": [
       "array([-0.23046605, -3.45760465,  1.10260637, -2.44445777,  1.05866637])"
      ]
     },
     "execution_count": 124,
     "metadata": {},
     "output_type": "execute_result"
    }
   ],
   "source": [
    "b = rng.standard_normal(n)\n",
    "s = rng.standard_normal(n)\n",
    "\n",
    "b[:5] + s[:5]"
   ]
  },
  {
   "cell_type": "code",
   "execution_count": null,
   "id": "0f82c647",
   "metadata": {},
   "outputs": [
    {
     "data": {
      "text/plain": [
       "[<matplotlib.lines.Line2D at 0x22eb5ed0690>]"
      ]
     },
     "execution_count": 126,
     "metadata": {},
     "output_type": "execute_result"
    },
    {
     "data": {
      "image/png": "[encoded data removed]",
      "text/plain": [
       "<Figure size 1000x600 with 1 Axes>"
      ]
     },
     "metadata": {},
     "output_type": "display_data"
    }
   ],
   "source": [
    "A = portfolio(b, s)\n",
    "plt.figure(figsize=(10, 6))\n",
    "plt.plot(A[:, 0], A[:, 1], 'r.')"
   ]
  },
  {
   "cell_type": "code",
   "execution_count": null,
   "id": "53f3b53a",
   "metadata": {},
   "outputs": [
    {
     "data": {
      "text/plain": [
       "np.float64(0.1)"
      ]
     },
     "execution_count": 127,
     "metadata": {},
     "output_type": "execute_result"
    }
   ],
   "source": [
    "i = (B[1][0] - B[0]) / B[0]\n",
    "i"
   ]
  },
  {
   "cell_type": "code",
   "execution_count": null,
   "id": "f74b7b9e",
   "metadata": {},
   "outputs": [
    {
     "data": {
      "text/plain": [
       "np.float64(0.4)"
      ]
     },
     "execution_count": 128,
     "metadata": {},
     "output_type": "execute_result"
    }
   ],
   "source": [
    "q = (S[0] * (1 + i) - S[1][1]) / (S[1][0] - S[1][1])\n",
    "q"
   ]
  },
  {
   "cell_type": "code",
   "execution_count": null,
   "id": "db20c6bf",
   "metadata": {},
   "outputs": [
    {
     "data": {
      "text/plain": [
       "np.float64(1.8181818181818181)"
      ]
     },
     "execution_count": 129,
     "metadata": {},
     "output_type": "execute_result"
    }
   ],
   "source": [
    "Q = (q, 1 - q)\n",
    "np.dot(Q, C1) / (1 + i)"
   ]
  },
  {
   "cell_type": "code",
   "execution_count": null,
   "id": "3c7523e0",
   "metadata": {},
   "outputs": [
    {
     "data": {
      "text/plain": [
       "array([[11, 20],\n",
       "       [11,  5]])"
      ]
     },
     "execution_count": 136,
     "metadata": {},
     "output_type": "execute_result"
    }
   ],
   "source": [
    "B = (10, np.array((11, 11)))\n",
    "S = (10, np.array((20, 5)))\n",
    "M = np.array((B[1], S[1])).T\n",
    "M"
   ]
  },
  {
   "cell_type": "code",
   "execution_count": null,
   "id": "688852e3",
   "metadata": {},
   "outputs": [
    {
     "data": {
      "text/plain": [
       "array([10, 10])"
      ]
     },
     "execution_count": 137,
     "metadata": {},
     "output_type": "execute_result"
    }
   ],
   "source": [
    "M0 = np.array((B[0], S[0]))\n",
    "M0"
   ]
  },
  {
   "cell_type": "code",
   "execution_count": null,
   "id": "8784f4a0",
   "metadata": {},
   "outputs": [],
   "source": [
    "R = M / M0 - 1"
   ]
  },
  {
   "cell_type": "code",
   "execution_count": null,
   "id": "47054787",
   "metadata": {},
   "outputs": [
    {
     "data": {
      "text/plain": [
       "array([[ 0.1,  1. ],\n",
       "       [ 0.1, -0.5]])"
      ]
     },
     "execution_count": 141,
     "metadata": {},
     "output_type": "execute_result"
    }
   ],
   "source": [
    "R"
   ]
  },
  {
   "cell_type": "code",
   "execution_count": null,
   "id": "fd05fc76",
   "metadata": {},
   "outputs": [
    {
     "data": {
      "text/plain": [
       "array([0.1 , 0.25])"
      ]
     },
     "execution_count": 142,
     "metadata": {},
     "output_type": "execute_result"
    }
   ],
   "source": [
    "P = np.array((0.5, 0.5))\n",
    "np.dot(P, R)"
   ]
  },
  {
   "cell_type": "code",
   "execution_count": null,
   "id": "b89a1af1",
   "metadata": {},
   "outputs": [
    {
     "data": {
      "text/plain": [
       "np.float64(0.18250000000000005)"
      ]
     },
     "execution_count": 143,
     "metadata": {},
     "output_type": "execute_result"
    }
   ],
   "source": [
    "s = 0.55\n",
    "phi = (1 - s, s)\n",
    "mu = np.dot(phi, np.dot(P, R))\n",
    "mu"
   ]
  },
  {
   "cell_type": "code",
   "execution_count": null,
   "id": "7f29ac5e",
   "metadata": {},
   "outputs": [
    {
     "data": {
      "text/plain": [
       "np.float64(0.41250000000000003)"
      ]
     },
     "execution_count": 144,
     "metadata": {},
     "output_type": "execute_result"
    }
   ],
   "source": [
    "sigma = s * R[:, 1].std()\n",
    "sigma"
   ]
  },
  {
   "cell_type": "code",
   "execution_count": null,
   "id": "a42f9f60",
   "metadata": {},
   "outputs": [
    {
     "name": "stderr",
     "output_type": "stream",
     "text": [
      "<>:9: SyntaxWarning: invalid escape sequence '\\s'\n",
      "<>:9: SyntaxWarning: invalid escape sequence '\\s'\n",
      "C:\\Users\\mickc\\AppData\\Local\\Temp\\ipykernel_31940\\2850868077.py:9: SyntaxWarning: invalid escape sequence '\\s'\n",
      "  plt.plot(values, sigma, '--', lw = 3.0, label='$\\sigma_p$')\n"
     ]
    },
    {
     "data": {
      "text/plain": [
       "Text(0.5, 0, '$s$')"
      ]
     },
     "execution_count": 145,
     "metadata": {},
     "output_type": "execute_result"
    },
    {
     "data": {
      "image/png": "[encoded data removed]",
      "text/plain": [
       "<Figure size 1000x600 with 1 Axes>"
      ]
     },
     "metadata": {},
     "output_type": "display_data"
    }
   ],
   "source": [
    "values = np.linspace(0, 1, 25)\n",
    "mu = [np.dot(((1-s), s), np.dot(P, R))\n",
    "      for s in values]\n",
    "\n",
    "sigma = [s * R[:, 1].std() for s in values]\n",
    "\n",
    "plt.figure(figsize=(10,6))\n",
    "plt.plot(values, mu, lw = 3.0, label='$mu_p$')\n",
    "plt.plot(values, sigma, '--', lw = 3.0, label='$\\sigma_p$')\n",
    "plt.legend(loc=0)\n",
    "plt.xlabel('$s$')"
   ]
  },
  {
   "cell_type": "code",
   "execution_count": null,
   "id": "1adaece1",
   "metadata": {},
   "outputs": [
    {
     "name": "stderr",
     "output_type": "stream",
     "text": [
      "<>:4: SyntaxWarning: invalid escape sequence '\\s'\n",
      "<>:5: SyntaxWarning: invalid escape sequence '\\m'\n",
      "<>:4: SyntaxWarning: invalid escape sequence '\\s'\n",
      "<>:5: SyntaxWarning: invalid escape sequence '\\m'\n",
      "C:\\Users\\mickc\\AppData\\Local\\Temp\\ipykernel_31940\\1150452647.py:4: SyntaxWarning: invalid escape sequence '\\s'\n",
      "  plt.xlabel('$\\sigma_p$')\n",
      "C:\\Users\\mickc\\AppData\\Local\\Temp\\ipykernel_31940\\1150452647.py:5: SyntaxWarning: invalid escape sequence '\\m'\n",
      "  plt.ylabel('$\\mu_p$')\n"
     ]
    },
    {
     "data": {
      "text/plain": [
       "Text(0, 0.5, '$\\\\mu_p$')"
      ]
     },
     "execution_count": 146,
     "metadata": {},
     "output_type": "execute_result"
    },
    {
     "data": {
      "image/png": "[encoded data removed]",
      "text/plain": [
       "<Figure size 1000x600 with 1 Axes>"
      ]
     },
     "metadata": {},
     "output_type": "display_data"
    }
   ],
   "source": [
    "plt.figure(figsize=(10,6))\n",
    "plt.plot(sigma, mu, lw = 3.0, label='risk-return')\n",
    "plt.legend(loc=0)\n",
    "plt.xlabel('$\\sigma_p$')\n",
    "plt.ylabel('$\\mu_p$')"
   ]
  },
  {
   "cell_type": "code",
   "execution_count": 55,
   "id": "5d3ead19",
   "metadata": {},
   "outputs": [
    {
     "name": "stdout",
     "output_type": "stream",
     "text": [
      "Return R: 3\n",
      "Rate of return r: 20.0%\n",
      "Present value: $16.36\n"
     ]
    }
   ],
   "source": [
    "c = np.array([-15, 18])\n",
    "i = 0.1\n",
    "# Calculate return which is total dollar amount gained/lost from an investment\n",
    "# R = c0 + c1 \n",
    "# R = -15 + 18 = 3\n",
    "R = np.sum(c)\n",
    "print(f\"Return R: {R}\")\n",
    "# Calculate the rate of return. i = 10% or 0.1\n",
    "# r = R / |c0|\n",
    "# r = 3 / |-15| = 3 / 15 = 0.2\n",
    "r = R / abs(c[0])\n",
    "print(f\"Rate of return r: {r:.1%}\")\n",
    "# Present Value of Future Cash Flow\n",
    "# PV = c1 / (1 + i) = \n",
    "# PV = 18 / (1 + 0.1) = \n",
    "PV = c[1] / (1 + i)\n",
    "print(f\"Present value: ${PV:.2f}\")"
   ]
  },
  {
   "cell_type": "code",
   "execution_count": 57,
   "id": "34b6fe44",
   "metadata": {},
   "outputs": [
    {
     "name": "stdout",
     "output_type": "stream",
     "text": [
      "Call option payoff C1: [5 0]\n",
      "Vector shape: (2,)\n",
      "All non-negative: True\n",
      "Vector space ℝ²: [5 0]\n"
     ]
    }
   ],
   "source": [
    "# Call Option Payoff Vector C1\n",
    "S0 = 12                 # Stock current price\n",
    "S1 = np.array([25, 8])  # Stock future price up/down\n",
    "K = 20                  # Strike price\n",
    "\n",
    "# Calculate\n",
    "C1 = np.maximum(S1 - K, 0)\n",
    "print(f\"Call option payoff C1: {C1}\")\n",
    "# Show that its in the right vector space\n",
    "print(f\"Vector shape: {C1.shape}\")\n",
    "print(f\"All non-negative: {np.all(C1>=0)}\")\n",
    "print(f\"Vector space ℝ²: {C1}\")"
   ]
  },
  {
   "cell_type": "code",
   "execution_count": 66,
   "id": "687cba3c",
   "metadata": {},
   "outputs": [
    {
     "name": "stdout",
     "output_type": "stream",
     "text": [
      "Returns in each state: [13 -4]\n",
      "Expected return E^P(R): 6.199999999999999\n",
      "Rate of return in each state: [ 1.08333333 -0.33333333]\n",
      "Expected rate of return μ: 0.517\n",
      "Variance σ²: 0.482\n",
      "Volatility σ: 0.694\n"
     ]
    }
   ],
   "source": [
    "# Expected Return and Volatility\n",
    "S0 = 12                     # Today's price\n",
    "S1 = np.array([25, 8])      # up, down\n",
    "P = np.array([0.6, 0.4])    # Probability up, down\n",
    "# Expected Return\n",
    "# Calculate returns in each state\n",
    "R = S1 - S0\n",
    "print(f\"Returns in each state: {R}\")\n",
    "\n",
    "# Calculate expected return\n",
    "expected_return = np.dot(P, R) # expected return is the dot product of probability vector and returns in each state\n",
    "print(f\"Expected return E^P(R): {expected_return}\")\n",
    "\n",
    "# Calculate rate of return in each state\n",
    "r = R / S0\n",
    "print(f\"Rate of return in each state: {r}\")\n",
    "\n",
    "# Calculate expected rate of return (mu)\n",
    "mu = np.dot(P, r)\n",
    "print(f\"Expected rate of return μ: {mu:.3f}\")\n",
    "\n",
    "# Calculate variance\n",
    "variance = np.dot(P, (r - mu)**2)\n",
    "print(f\"Variance σ²: {variance:.3f}\")\n",
    "\n",
    "# Calculate volatility (standard deviation)\n",
    "volatility = np.sqrt(variance)\n",
    "print(f\"Volatility σ: {volatility:.3f}\")\n"
   ]
  },
  {
   "cell_type": "code",
   "execution_count": null,
   "id": "6c7dc3a8",
   "metadata": {},
   "outputs": [],
   "source": []
  }
 ],
 "metadata": {
  "kernelspec": {
   "display_name": ".venv",
   "language": "python",
   "name": "python3"
  },
  "language_info": {
   "codemirror_mode": {
    "name": "ipython",
    "version": 3
   },
   "file_extension": ".py",
   "mimetype": "text/x-python",
   "name": "python",
   "nbconvert_exporter": "python",
   "pygments_lexer": "ipython3",
   "version": "3.13.3"
  }
 },
 "nbformat": 4,
 "nbformat_minor": 5
}
